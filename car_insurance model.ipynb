{
 "cells": [
  {
   "cell_type": "code",
   "execution_count": 15,
   "metadata": {},
   "outputs": [],
   "source": [
    "import numpy as np\n",
    "import pandas as pd\n",
    "import matplotlib.pyplot as plt\n",
    "import seaborn as sns\n",
    "from warnings import filterwarnings\n",
    "filterwarnings(\"ignore\")"
   ]
  },
  {
   "cell_type": "code",
   "execution_count": 227,
   "metadata": {},
   "outputs": [],
   "source": [
    "train_data = pd.read_csv(\"train_data_processed.csv\")\n",
    "test_data = pd.read_csv(\"test_data_processed.csv\")\n",
    "train_data_red = pd.read_csv(\"red_train_data_processed.csv\")\n",
    "test_data_red = pd.read_csv(\"red_test_data_processed.csv\")"
   ]
  },
  {
   "cell_type": "code",
   "execution_count": 228,
   "metadata": {},
   "outputs": [
    {
     "data": {
      "text/html": [
       "<div>\n",
       "<style scoped>\n",
       "    .dataframe tbody tr th:only-of-type {\n",
       "        vertical-align: middle;\n",
       "    }\n",
       "\n",
       "    .dataframe tbody tr th {\n",
       "        vertical-align: top;\n",
       "    }\n",
       "\n",
       "    .dataframe thead th {\n",
       "        text-align: right;\n",
       "    }\n",
       "</style>\n",
       "<table border=\"1\" class=\"dataframe\">\n",
       "  <thead>\n",
       "    <tr style=\"text-align: right;\">\n",
       "      <th></th>\n",
       "      <th>F0</th>\n",
       "      <th>F1</th>\n",
       "      <th>F2</th>\n",
       "      <th>F3</th>\n",
       "      <th>F4</th>\n",
       "      <th>F5</th>\n",
       "      <th>F6</th>\n",
       "      <th>F7</th>\n",
       "      <th>F8</th>\n",
       "      <th>F9</th>\n",
       "      <th>...</th>\n",
       "      <th>F29</th>\n",
       "      <th>F30</th>\n",
       "      <th>F31</th>\n",
       "      <th>F32</th>\n",
       "      <th>F33</th>\n",
       "      <th>F34</th>\n",
       "      <th>F35</th>\n",
       "      <th>F36</th>\n",
       "      <th>F37</th>\n",
       "      <th>Target</th>\n",
       "    </tr>\n",
       "  </thead>\n",
       "  <tbody>\n",
       "    <tr>\n",
       "      <th>0</th>\n",
       "      <td>0.505128</td>\n",
       "      <td>-0.130344</td>\n",
       "      <td>0.000000</td>\n",
       "      <td>0.000000</td>\n",
       "      <td>0.648876</td>\n",
       "      <td>-0.178814</td>\n",
       "      <td>0</td>\n",
       "      <td>0</td>\n",
       "      <td>1</td>\n",
       "      <td>0</td>\n",
       "      <td>...</td>\n",
       "      <td>1</td>\n",
       "      <td>0</td>\n",
       "      <td>0</td>\n",
       "      <td>1</td>\n",
       "      <td>0</td>\n",
       "      <td>1</td>\n",
       "      <td>0</td>\n",
       "      <td>0</td>\n",
       "      <td>0</td>\n",
       "      <td>0</td>\n",
       "    </tr>\n",
       "    <tr>\n",
       "      <th>1</th>\n",
       "      <td>0.420931</td>\n",
       "      <td>-0.443230</td>\n",
       "      <td>0.047619</td>\n",
       "      <td>0.017241</td>\n",
       "      <td>0.643258</td>\n",
       "      <td>2.168447</td>\n",
       "      <td>0</td>\n",
       "      <td>0</td>\n",
       "      <td>0</td>\n",
       "      <td>0</td>\n",
       "      <td>...</td>\n",
       "      <td>0</td>\n",
       "      <td>1</td>\n",
       "      <td>0</td>\n",
       "      <td>1</td>\n",
       "      <td>0</td>\n",
       "      <td>0</td>\n",
       "      <td>0</td>\n",
       "      <td>1</td>\n",
       "      <td>0</td>\n",
       "      <td>1</td>\n",
       "    </tr>\n",
       "    <tr>\n",
       "      <th>2</th>\n",
       "      <td>-0.451105</td>\n",
       "      <td>-0.364441</td>\n",
       "      <td>0.000000</td>\n",
       "      <td>0.000000</td>\n",
       "      <td>0.640449</td>\n",
       "      <td>-0.126948</td>\n",
       "      <td>0</td>\n",
       "      <td>0</td>\n",
       "      <td>0</td>\n",
       "      <td>0</td>\n",
       "      <td>...</td>\n",
       "      <td>1</td>\n",
       "      <td>0</td>\n",
       "      <td>1</td>\n",
       "      <td>0</td>\n",
       "      <td>0</td>\n",
       "      <td>1</td>\n",
       "      <td>0</td>\n",
       "      <td>0</td>\n",
       "      <td>0</td>\n",
       "      <td>1</td>\n",
       "    </tr>\n",
       "    <tr>\n",
       "      <th>3</th>\n",
       "      <td>-0.798826</td>\n",
       "      <td>-0.291479</td>\n",
       "      <td>0.000000</td>\n",
       "      <td>0.000000</td>\n",
       "      <td>0.941011</td>\n",
       "      <td>-0.095372</td>\n",
       "      <td>0</td>\n",
       "      <td>0</td>\n",
       "      <td>0</td>\n",
       "      <td>0</td>\n",
       "      <td>...</td>\n",
       "      <td>0</td>\n",
       "      <td>1</td>\n",
       "      <td>0</td>\n",
       "      <td>1</td>\n",
       "      <td>0</td>\n",
       "      <td>1</td>\n",
       "      <td>0</td>\n",
       "      <td>0</td>\n",
       "      <td>0</td>\n",
       "      <td>1</td>\n",
       "    </tr>\n",
       "    <tr>\n",
       "      <th>4</th>\n",
       "      <td>-0.972686</td>\n",
       "      <td>-0.354863</td>\n",
       "      <td>0.047619</td>\n",
       "      <td>0.068966</td>\n",
       "      <td>0.646067</td>\n",
       "      <td>-0.077367</td>\n",
       "      <td>0</td>\n",
       "      <td>1</td>\n",
       "      <td>0</td>\n",
       "      <td>0</td>\n",
       "      <td>...</td>\n",
       "      <td>1</td>\n",
       "      <td>0</td>\n",
       "      <td>0</td>\n",
       "      <td>1</td>\n",
       "      <td>0</td>\n",
       "      <td>0</td>\n",
       "      <td>1</td>\n",
       "      <td>0</td>\n",
       "      <td>0</td>\n",
       "      <td>1</td>\n",
       "    </tr>\n",
       "  </tbody>\n",
       "</table>\n",
       "<p>5 rows × 39 columns</p>\n",
       "</div>"
      ],
      "text/plain": [
       "         F0        F1        F2        F3        F4        F5  F6  F7  F8  F9  \\\n",
       "0  0.505128 -0.130344  0.000000  0.000000  0.648876 -0.178814   0   0   1   0   \n",
       "1  0.420931 -0.443230  0.047619  0.017241  0.643258  2.168447   0   0   0   0   \n",
       "2 -0.451105 -0.364441  0.000000  0.000000  0.640449 -0.126948   0   0   0   0   \n",
       "3 -0.798826 -0.291479  0.000000  0.000000  0.941011 -0.095372   0   0   0   0   \n",
       "4 -0.972686 -0.354863  0.047619  0.068966  0.646067 -0.077367   0   1   0   0   \n",
       "\n",
       "   ...  F29  F30  F31  F32  F33  F34  F35  F36  F37  Target  \n",
       "0  ...    1    0    0    1    0    1    0    0    0       0  \n",
       "1  ...    0    1    0    1    0    0    0    1    0       1  \n",
       "2  ...    1    0    1    0    0    1    0    0    0       1  \n",
       "3  ...    0    1    0    1    0    1    0    0    0       1  \n",
       "4  ...    1    0    0    1    0    0    1    0    0       1  \n",
       "\n",
       "[5 rows x 39 columns]"
      ]
     },
     "execution_count": 228,
     "metadata": {},
     "output_type": "execute_result"
    }
   ],
   "source": [
    "train_data.head()"
   ]
  },
  {
   "cell_type": "code",
   "execution_count": 44,
   "metadata": {},
   "outputs": [
    {
     "data": {
      "image/png": "[encoded data removed]",
      "text/plain": [
       "<Figure size 432x288 with 2 Axes>"
      ]
     },
     "metadata": {},
     "output_type": "display_data"
    }
   ],
   "source": [
    "corrmat = train_data.corr()\n",
    "g=sns.heatmap(corrmat,cmap=\"RdYlGn\")"
   ]
  },
  {
   "cell_type": "code",
   "execution_count": 229,
   "metadata": {},
   "outputs": [],
   "source": [
    "X = train_data.drop(\"Target\",axis = 1)\n",
    "y = train_data[\"Target\"]\n",
    "X_red = train_data_red.drop(\"Target\",axis = 1)"
   ]
  },
  {
   "cell_type": "code",
   "execution_count": 230,
   "metadata": {},
   "outputs": [],
   "source": [
    "from sklearn.model_selection import train_test_split\n",
    "X_train ,X_test,y_train,y_test = train_test_split(X,y,test_size = 0.2)\n",
    "X_train_red ,X_test_red,y_train_red,y_test_red = train_test_split(X_red,y,test_size = 0.2)"
   ]
  },
  {
   "cell_type": "code",
   "execution_count": 48,
   "metadata": {},
   "outputs": [
    {
     "data": {
      "text/plain": [
       "1    1422\n",
       "0    1059\n",
       "Name: Target, dtype: int64"
      ]
     },
     "execution_count": 48,
     "metadata": {},
     "output_type": "execute_result"
    }
   ],
   "source": [
    "y_train.value_counts()"
   ]
  },
  {
   "cell_type": "code",
   "execution_count": 49,
   "metadata": {},
   "outputs": [],
   "source": [
    "from imblearn.over_sampling import SMOTE"
   ]
  },
  {
   "cell_type": "code",
   "execution_count": 50,
   "metadata": {},
   "outputs": [],
   "source": []
  },
  {
   "cell_type": "code",
   "execution_count": 51,
   "metadata": {},
   "outputs": [],
   "source": [
    "balancer= SMOTE()\n",
    "train_X,train_y = balancer.fit_resample(X,y)"
   ]
  },
  {
   "cell_type": "code",
   "execution_count": 52,
   "metadata": {},
   "outputs": [],
   "source": [
    "from sklearn.metrics import confusion_matrix\n",
    "from sklearn.metrics import accuracy_score\n",
    "from sklearn.metrics import precision_score\n",
    "from sklearn.metrics import recall_score\n",
    "from sklearn.metrics import f1_score"
   ]
  },
  {
   "cell_type": "code",
   "execution_count": 136,
   "metadata": {},
   "outputs": [],
   "source": [
    "import pickle\n",
    "name = []\n",
    "accuracy = [] \n",
    "precision = [] \n",
    "recall = [] \n",
    "f1 = []\n",
    "\n",
    "# Main function for models\n",
    "def model(algorithm,x_train,y_train,x_test,y_test,name_): \n",
    "    algorithm.fit(x_train,y_train)\n",
    "    predicts=algorithm.predict(x_test)\n",
    "    prediction=pd.DataFrame(predicts)\n",
    "    accuracy_=accuracy_score(y_test,prediction)\n",
    "    precision_ = precision_score(y_test,prediction)\n",
    "    recall_ = recall_score(y_test,prediction)\n",
    "    f1_ = f1_score(y_test,prediction)\n",
    "    # Appending results to Lists \n",
    "    name.append(name)\n",
    "    accuracy.append(accuracy_)\n",
    "    precision.append(precision_)\n",
    "    recall.append(recall_)\n",
    "    f1.append(f1_)\n",
    "    \n",
    "    # Printing results  \n",
    "    print(algorithm,\"\\n\") \n",
    "    print(\"Accuracy :\",accuracy_)\n",
    "    print(\"Precision:\",precision_,)\n",
    "    print(\"Recall:\",recall_)\n",
    "    print(\"F1 Score :\",f1_)\n",
    "    \n",
    "    # Saving Result \n",
    "    file = open(name_+'.pkl', 'wb')\n",
    "    pickle.dump(algorithm, file)\n",
    "    file.close()\n",
    "    \n",
    "    "
   ]
  },
  {
   "cell_type": "code",
   "execution_count": 137,
   "metadata": {},
   "outputs": [],
   "source": [
    "from sklearn.model_selection import GridSearchCV\n",
    "from sklearn.model_selection import RandomizedSearchCV"
   ]
  },
  {
   "cell_type": "code",
   "execution_count": 138,
   "metadata": {},
   "outputs": [
    {
     "name": "stdout",
     "output_type": "stream",
     "text": [
      "LogisticRegression(max_iter=1000) \n",
      "\n",
      "Accuracy : 0.6618357487922706\n",
      "Precision: 0.6509433962264151\n",
      "Recall: 0.8165680473372781\n",
      "F1 Score : 0.7244094488188977\n"
     ]
    }
   ],
   "source": [
    "from sklearn.linear_model import LogisticRegression\n",
    "lr = LogisticRegression(max_iter=1000)\n",
    "model(lr,X_train,y_train,X_test,y_test,\"lr\")"
   ]
  },
  {
   "cell_type": "code",
   "execution_count": 139,
   "metadata": {},
   "outputs": [
    {
     "name": "stdout",
     "output_type": "stream",
     "text": [
      "GridSearchCV(cv=3, estimator=KNeighborsClassifier(),\n",
      "             param_grid={'algorithm': ['ball_tree', 'kd_tree'],\n",
      "                         'leaf_size': [10, 20, 30, 40, 50],\n",
      "                         'n_neighbors': [3, 4, 5, 7, 10, 15], 'p': [1, 2],\n",
      "                         'weights': ['uniform', 'distance']}) \n",
      "\n",
      "Accuracy : 0.7423510466988728\n",
      "Precision: 0.778125\n",
      "Recall: 0.7366863905325444\n",
      "F1 Score : 0.7568389057750758\n"
     ]
    }
   ],
   "source": [
    "from sklearn.neighbors import KNeighborsClassifier\n",
    "param = {\"n_neighbors\":[3,4,5,7,10,15],\n",
    "         \"weights\":[\"uniform\",\"distance\"],\n",
    "         \"leaf_size\":[10,20,30,40,50],\n",
    "         \"p\":[1,2],\n",
    "         \"algorithm\":[\"ball_tree\",\"kd_tree\"]\n",
    "        }\n",
    "knc = KNeighborsClassifier()\n",
    "gridKN = GridSearchCV(knc,param_grid=param,cv = 3)\n",
    "model(gridKN,X_train,y_train,X_test,y_test,\"KNN Grids\")"
   ]
  },
  {
   "cell_type": "code",
   "execution_count": 140,
   "metadata": {},
   "outputs": [
    {
     "name": "stdout",
     "output_type": "stream",
     "text": [
      "GaussianNB() \n",
      "\n",
      "Accuracy : 0.7697262479871175\n",
      "Precision: 0.8679245283018868\n",
      "Recall: 0.6804733727810651\n",
      "F1 Score : 0.7628524046434495\n"
     ]
    }
   ],
   "source": [
    "from sklearn.naive_bayes import GaussianNB\n",
    "GNB = GaussianNB()\n",
    "model(GNB,X_train,y_train,X_test,y_test,\"Naive Bayes\")"
   ]
  },
  {
   "cell_type": "code",
   "execution_count": 141,
   "metadata": {},
   "outputs": [
    {
     "name": "stdout",
     "output_type": "stream",
     "text": [
      "GridSearchCV(cv=3, estimator=RidgeClassifier(),\n",
      "             param_grid={'alpha': [0.1, 0.3, 0.5, 0.7, 1, 2, 5, 10],\n",
      "                         'solver': ['svd', 'cholesky', 'lsqr', 'sparse_cg',\n",
      "                                    'sag', 'saga']}) \n",
      "\n",
      "Accuracy : 0.6650563607085346\n",
      "Precision: 0.6533018867924528\n",
      "Recall: 0.8195266272189349\n",
      "F1 Score : 0.7270341207349081\n"
     ]
    }
   ],
   "source": [
    "from sklearn.linear_model import RidgeClassifier\n",
    "param ={\n",
    "    \"alpha\":[0.1,0.3,0.5,0.7,1,2,5,10],\n",
    "    \"solver\" : [\"svd\",\"cholesky\",\"lsqr\",\"sparse_cg\",\"sag\",\"saga\"]\n",
    "}\n",
    "rc = RidgeClassifier()\n",
    "ridge_grid = GridSearchCV(rc,param_grid=param,cv = 3)\n",
    "\n",
    "model(ridge_grid,X_train,y_train,X_test,y_test,\"Ridge Classifier\")"
   ]
  },
  {
   "cell_type": "code",
   "execution_count": 145,
   "metadata": {},
   "outputs": [
    {
     "name": "stdout",
     "output_type": "stream",
     "text": [
      "RandomizedSearchCV(cv=3, estimator=SVC(), n_iter=300, n_jobs=-1,\n",
      "                   param_distributions={'C': [0.1, 0.2, 0.3, 0.5, 0.7, 0.8, 1,\n",
      "                                              2, 5, 10, 15, 20, 30],\n",
      "                                        'degree': [1, 2, 3, 4, 5, 7, 10],\n",
      "                                        'gamma': ['scale', 'auto'],\n",
      "                                        'kernel': ['linear', 'poly', 'rbf',\n",
      "                                                   'sigmoid'],\n",
      "                                        'probability': [True, False],\n",
      "                                        'shrinking': [True, False]}) \n",
      "\n",
      "Accuracy : 0.7938808373590982\n",
      "Precision: 0.8181818181818182\n",
      "Recall: 0.7988165680473372\n",
      "F1 Score : 0.8083832335329342\n"
     ]
    }
   ],
   "source": [
    "from sklearn.svm import SVC\n",
    "param ={\n",
    "    \"C\" : [0.1,0.2,0.3,0.5,0.7,0.8,1,2,5,10,15,20,30],\n",
    "    \"kernel\":[\"linear\", \"poly\", \"rbf\", \"sigmoid\"],\n",
    "    \"degree\": [1,2,3,4,5,7,10],\n",
    "    \"shrinking\":[True,False],\n",
    "    \"probability\":[True,False],\n",
    "    \"gamma\":[\"scale\",\"auto\"]\n",
    "}\n",
    "\n",
    "svc = SVC()\n",
    "svcgrid = RandomizedSearchCV(scv,param_distributions=param,cv=3,n_iter=300,n_jobs=-1)\n",
    "model(svcgrid,X_train,y_train,X_test,y_test,\"SVC\")"
   ]
  },
  {
   "cell_type": "code",
   "execution_count": null,
   "metadata": {},
   "outputs": [],
   "source": []
  },
  {
   "cell_type": "code",
   "execution_count": 148,
   "metadata": {},
   "outputs": [
    {
     "name": "stdout",
     "output_type": "stream",
     "text": [
      "GaussianProcessClassifier(max_iter_predict=10000) \n",
      "\n",
      "Accuracy : 0.7455716586151369\n",
      "Precision: 0.78125\n",
      "Recall: 0.7396449704142012\n",
      "F1 Score : 0.7598784194528875\n"
     ]
    }
   ],
   "source": [
    "from sklearn.gaussian_process import GaussianProcessClassifier\n",
    "GPC = GaussianProcessClassifier(max_iter_predict = 10000)\n",
    "model(GPC,X_train,y_train,X_test,y_test,\"gaussian process classifier\")"
   ]
  },
  {
   "cell_type": "code",
   "execution_count": 155,
   "metadata": {},
   "outputs": [
    {
     "name": "stdout",
     "output_type": "stream",
     "text": [
      "GridSearchCV(cv=3, estimator=PassiveAggressiveClassifier(),\n",
      "             param_grid={'C': [0.1, 0.2, 0.3, 0.5, 0.7, 0.8, 1, 1.5, 2, 3, 5, 7,\n",
      "                               10],\n",
      "                         'fit_intercept': [True, False],\n",
      "                         'loss': ['hinge', 'squared_hinge'],\n",
      "                         'validation_fraction': [0.5, 0.1, 0.2, 0.5, 0.7]}) \n",
      "\n",
      "Accuracy : 0.644122383252818\n",
      "Precision: 0.7038327526132404\n",
      "Recall: 0.5976331360946746\n",
      "F1 Score : 0.6464\n"
     ]
    }
   ],
   "source": [
    "from sklearn.linear_model import PassiveAggressiveClassifier\n",
    "param = {\n",
    "    \"C\" : [0.1,0.2,0.3,0.5,0.7,0.8,1,1.5,2,3,5,7,10],\n",
    "    \"fit_intercept\":[True,False],\n",
    "    \"validation_fraction\" : [0.5,0.1,0.2,0.5,0.7],\n",
    "    \"loss\" : [\"hinge\",\"squared_hinge\"]\n",
    "}\n",
    "PAC = PassiveAggressiveClassifier()\n",
    "PAC_grid = GridSearchCV(PAC,cv = 3,param_grid=param)\n",
    "model(PAC_grid,X_train,y_train,X_test,y_test,\"passive aggresive classifier\")"
   ]
  },
  {
   "cell_type": "code",
   "execution_count": 167,
   "metadata": {},
   "outputs": [
    {
     "name": "stdout",
     "output_type": "stream",
     "text": [
      "RandomizedSearchCV(cv=3, estimator=DecisionTreeClassifier(), n_iter=2000,\n",
      "                   n_jobs=-1,\n",
      "                   param_distributions={'criterion': ['gini', 'entropy'],\n",
      "                                        'max_depth': [10, 20, 30, 40, 50, 60,\n",
      "                                                      70, 80, 90, 100, 110, 120,\n",
      "                                                      130, 140, 150, 160, 170,\n",
      "                                                      180, 190, 200, 210, 220,\n",
      "                                                      230, 240, 250, 260, 270,\n",
      "                                                      280, 290, 300, ...],\n",
      "                                        'max_features': ['sqrt', 'log2', None],\n",
      "                                        'min_samples_split': [2, 3, 4, 5],\n",
      "                                        'splitter': ['best', 'random']}) \n",
      "\n",
      "Accuracy : 0.855072463768116\n",
      "Precision: 0.8757575757575757\n",
      "Recall: 0.8550295857988166\n",
      "F1 Score : 0.8652694610778443\n"
     ]
    }
   ],
   "source": [
    "from sklearn.tree import DecisionTreeClassifier\n",
    "grid_param = {\n",
    "    \"criterion\":[\"gini\",\"entropy\"],\n",
    "    \"splitter\" :[\"best\",\"random\"],\n",
    "    \"max_depth\" : [x for x in range(10,1000,10)],\n",
    "    \"min_samples_split\" :[2,3,4,5],\n",
    "    \"max_features\" :[\"sqrt\",\"log2\",None]\n",
    "}\n",
    "DT = DecisionTreeClassifier()\n",
    "DT_grid = RandomizedSearchCV(DT,param_distributions = grid_param ,cv = 3,n_iter=2000,n_jobs=-1)\n",
    "model(DT_grid,X_train,y_train,X_test,y_test,\"decision tree classifier\")"
   ]
  },
  {
   "cell_type": "code",
   "execution_count": 172,
   "metadata": {},
   "outputs": [
    {
     "name": "stdout",
     "output_type": "stream",
     "text": [
      "GridSearchCV(cv=3,\n",
      "             estimator=AdaBoostClassifier(base_estimator=DecisionTreeClassifier(criterion='entropy',\n",
      "                                                                                max_depth=510,\n",
      "                                                                                min_samples_split=4)),\n",
      "             n_jobs=-1,\n",
      "             param_grid={'algorithm': ['SAMME', 'SAMME.R'],\n",
      "                         'learning_rate': array([0.1, 0.2, 0.3, 0.4, 0.5, 0.6, 0.7, 0.8, 0.9]),\n",
      "                         'n_estimators': [20, 30, 40, 50, 60, 70, 80, 90, 100,\n",
      "                                          110, 120, 130, 140]}) \n",
      "\n",
      "Accuracy : 0.9130434782608695\n",
      "Precision: 0.9152046783625731\n",
      "Recall: 0.9260355029585798\n",
      "F1 Score : 0.9205882352941177\n"
     ]
    }
   ],
   "source": [
    "from sklearn.ensemble import AdaBoostClassifier\n",
    "ABC = AdaBoostClassifier(DT_grid.best_estimator_)\n",
    "param_grid = {\n",
    "    \"n_estimators\" : [x for x in range(20,150,10)],\n",
    "    \"learning_rate\" : np.arange(0.1,1,0.1),\n",
    "    \"algorithm\": [\"SAMME\", \"SAMME.R\"]\n",
    "    \n",
    "}\n",
    "ABC_grid = GridSearchCV(ABC,param_grid=param_grid,cv = 3,n_jobs=-1)\n",
    "model(ABC_grid,X_train,y_train,X_test,y_test,\"AdaBoostClassifier\")"
   ]
  },
  {
   "cell_type": "code",
   "execution_count": 182,
   "metadata": {},
   "outputs": [
    {
     "data": {
      "text/plain": [
       "0.8919790407093914"
      ]
     },
     "execution_count": 182,
     "metadata": {},
     "output_type": "execute_result"
    }
   ],
   "source": [
    "ABC_grid.best_score_"
   ]
  },
  {
   "cell_type": "code",
   "execution_count": 176,
   "metadata": {},
   "outputs": [
    {
     "name": "stdout",
     "output_type": "stream",
     "text": [
      "Fitting 3 folds for each of 100 candidates, totalling 300 fits\n",
      "RandomizedSearchCV(cv=3, estimator=GradientBoostingClassifier(), n_iter=100,\n",
      "                   n_jobs=-1,\n",
      "                   param_distributions={'criterion': ['friedman_mse', 'mse'],\n",
      "                                        'init': AdaBoostClassifier(algorithm='SAMME',\n",
      "                                                                   base_estimator=DecisionTreeClassifier(criterion='entropy',\n",
      "                                                                                                         max_depth=510,\n",
      "                                                                                                         min_samples_split=4),\n",
      "                                                                   learning_rate=0.4,\n",
      "                                                                   n_estimators=120),\n",
      "                                        'learning_rate': array([0.1, 0.2, 0.3, 0....\n",
      "                                        'loss': ['deviance', 'exponential'],\n",
      "                                        'max_depth': array([ 3,  5,  7,  9, 11, 13, 15, 17, 19, 21, 23, 25, 27, 29, 31, 33, 35,\n",
      "       37, 39, 41, 43, 45, 47, 49]),\n",
      "                                        'max_features': [None, 'sqrt', 'log2'],\n",
      "                                        'min_samples_leaf': [1, 2, 5, 8, 10],\n",
      "                                        'min_samples_split': [2, 5, 7, 10, 15,\n",
      "                                                              50],\n",
      "                                        'n_estimators': array([ 50,  70,  90, 110, 130, 150, 170, 190, 210, 230, 250, 270, 290,\n",
      "       310, 330, 350, 370, 390, 410, 430, 450, 470, 490])},\n",
      "                   verbose=2) \n",
      "\n",
      "Accuracy : 0.9017713365539453\n",
      "Precision: 0.9159159159159159\n",
      "Recall: 0.9023668639053254\n",
      "F1 Score : 0.9090909090909091\n"
     ]
    }
   ],
   "source": [
    "from sklearn.ensemble import GradientBoostingClassifier\n",
    "GBC = GradientBoostingClassifier()\n",
    "param_grid = {\n",
    "    \"loss\":[\"deviance\", \"exponential\"],\n",
    "    \"learning_rate\" : np.arange(0.1,1,0.1),\n",
    "    \"n_estimators\" : np.arange(50,500,20),\n",
    "    \"criterion\" : [\"friedman_mse\", \"mse\"],\n",
    "    \"min_samples_split\" :[2,5,7,10,15,50],\n",
    "    \"min_samples_leaf\":[ 1,2,5,8,10],\n",
    "    \"max_depth\" : np.arange(3,50,2),\n",
    "    \"init\" : ABC_grid.best_estimator_,\n",
    "    \"max_features\" : [None, \"sqrt\", \"log2\"]\n",
    "}\n",
    "GBC_Random = RandomizedSearchCV(GBC,param_distributions=param_grid,n_iter= 100,cv = 3,n_jobs = -1,verbose=2)\n",
    "model(GBC_Random,X_train,y_train,X_test,y_test,\"GradientBoostingClassifier\")"
   ]
  },
  {
   "cell_type": "code",
   "execution_count": 179,
   "metadata": {},
   "outputs": [
    {
     "name": "stdout",
     "output_type": "stream",
     "text": [
      "Fitting 4 folds for each of 2000 candidates, totalling 8000 fits\n",
      "RandomizedSearchCV(cv=4, estimator=RandomForestClassifier(), n_iter=2000,\n",
      "                   n_jobs=-1,\n",
      "                   param_distributions={'bootstrap': [True, False],\n",
      "                                        'criterion': ['gini', 'entropy'],\n",
      "                                        'max_depth': array([None, 5, 15, 25, 35, 45, 55, 65, 75, 85, 95, 105, 115, 125, 135,\n",
      "       145, 155, 165, 175, 185, 195, 205, 215, 225, 235, 245, 255, 265,\n",
      "       275, 285, 295, 305, 315, 325, 335, 345, 355, 365, 375, 385, 395,\n",
      "       405, 415, 425, 435, 445...\n",
      "                                        'min_samples_split': array([ 1,  3,  5,  7,  9, 11, 13, 15, 17, 19, 21, 23, 25, 27, 29]),\n",
      "                                        'n_estimators': array([  50,   80,  110,  140,  170,  200,  230,  260,  290,  320,  350,\n",
      "        380,  410,  440,  470,  500,  530,  560,  590,  620,  650,  680,\n",
      "        710,  740,  770,  800,  830,  860,  890,  920,  950,  980, 1010,\n",
      "       1040, 1070, 1100, 1130, 1160, 1190, 1220, 1250, 1280, 1310, 1340,\n",
      "       1370, 1400, 1430, 1460, 1490, 1520, 1550, 1580, 1610, 1640, 1670,\n",
      "       1700, 1730, 1760, 1790, 1820, 1850, 1880, 1910, 1940, 1970])},\n",
      "                   verbose=2) \n",
      "\n",
      "Accuracy : 0.895330112721417\n",
      "Precision: 0.9026548672566371\n",
      "Recall: 0.9053254437869822\n",
      "F1 Score : 0.9039881831610044\n"
     ]
    }
   ],
   "source": [
    "from sklearn.ensemble import RandomForestClassifier\n",
    "random_grid = {\n",
    "    \"n_estimators\" : np.arange(50,2000,30),\n",
    "    \"criterion\" : [\"gini\", \"entropy\"],\n",
    "    \"max_depth\" : np.append(np.array([None]),(np.arange(5,500,10))),\n",
    "    \"min_samples_split\" : np.arange(1,30,2),\n",
    "    \"min_samples_leaf\" :np.arange(1,30),\n",
    "    \"max_features\" : [\"sqrt\",\"log2\",None],\n",
    "    \"bootstrap\" : [True,False]\n",
    "}\n",
    "RFC = RandomForestClassifier()\n",
    "RFC_random  = RandomizedSearchCV(RFC,param_distributions=random_grid,n_jobs=-1,n_iter=2000,cv = 4,verbose = 2)\n",
    "model(RFC_random,X_train,y_train,X_test,y_test,\"RandomForestClassifier\")\n"
   ]
  },
  {
   "cell_type": "code",
   "execution_count": 181,
   "metadata": {},
   "outputs": [
    {
     "name": "stdout",
     "output_type": "stream",
     "text": [
      "GridSearchCV(cv=3,\n",
      "             estimator=AdaBoostClassifier(base_estimator=RandomForestClassifier(criterion='entropy',\n",
      "                                                                                max_depth=95,\n",
      "                                                                                max_features='log2',\n",
      "                                                                                min_samples_split=5,\n",
      "                                                                                n_estimators=1820)),\n",
      "             n_jobs=-1,\n",
      "             param_grid={'algorithm': ['SAMME', 'SAMME.R'],\n",
      "                         'learning_rate': array([0.1, 0.2, 0.3, 0.4, 0.5, 0.6, 0.7, 0.8, 0.9]),\n",
      "                         'n_estimators': [20, 30, 40, 50, 60, 70, 80, 90, 100,\n",
      "                                          110, 120, 130, 140]}) \n",
      "\n",
      "Accuracy : 0.893719806763285\n",
      "Precision: 0.9\n",
      "Recall: 0.9053254437869822\n",
      "F1 Score : 0.9026548672566372\n"
     ]
    }
   ],
   "source": [
    "from sklearn.ensemble import AdaBoostClassifier\n",
    "ABC2 = AdaBoostClassifier(RFC_random.best_estimator_)\n",
    "param_grid = {\n",
    "    \"n_estimators\" : [x for x in range(20,150,10)],\n",
    "    \"learning_rate\" : np.arange(0.1,1,0.1),\n",
    "    \"algorithm\": [\"SAMME\", \"SAMME.R\"]    \n",
    "}\n",
    "ABC2_grid = GridSearchCV(ABC2,param_grid=param_grid,cv = 3,n_jobs=-1)\n",
    "model(ABC2_grid,X_train,y_train,X_test,y_test,\"AdaBoostClassifier2\")"
   ]
  },
  {
   "cell_type": "code",
   "execution_count": 202,
   "metadata": {},
   "outputs": [
    {
     "name": "stdout",
     "output_type": "stream",
     "text": [
      "LogisticRegression() \n",
      "\n",
      "Accuracy : 0.6457326892109501\n",
      "Precision: 0.6709183673469388\n",
      "Recall: 0.7429378531073446\n",
      "F1 Score : 0.7050938337801609\n"
     ]
    }
   ],
   "source": [
    "from sklearn.linear_model import LogisticRegression\n",
    "lr = LogisticRegression()\n",
    "model(lr,X_train_red,y_train_red,X_test_red,y_test_red,\"lr\")"
   ]
  },
  {
   "cell_type": "code",
   "execution_count": null,
   "metadata": {},
   "outputs": [],
   "source": []
  },
  {
   "cell_type": "code",
   "execution_count": 203,
   "metadata": {},
   "outputs": [
    {
     "name": "stdout",
     "output_type": "stream",
     "text": [
      "GaussianNB() \n",
      "\n",
      "Accuracy : 0.7665056360708534\n",
      "Precision: 0.8471760797342193\n",
      "Recall: 0.7203389830508474\n",
      "F1 Score : 0.7786259541984732\n"
     ]
    }
   ],
   "source": [
    "from sklearn.naive_bayes import GaussianNB\n",
    "GNB = GaussianNB()\n",
    "model(GNB,X_train_red,y_train_red,X_test_red,y_test_red,\"Naive Bayes\")"
   ]
  },
  {
   "cell_type": "code",
   "execution_count": 204,
   "metadata": {},
   "outputs": [
    {
     "name": "stdout",
     "output_type": "stream",
     "text": [
      "RandomizedSearchCV(cv=3, estimator=DecisionTreeClassifier(), n_iter=2000,\n",
      "                   n_jobs=-1,\n",
      "                   param_distributions={'criterion': ['gini', 'entropy'],\n",
      "                                        'max_depth': [10, 20, 30, 40, 50, 60,\n",
      "                                                      70, 80, 90, 100, 110, 120,\n",
      "                                                      130, 140, 150, 160, 170,\n",
      "                                                      180, 190, 200, 210, 220,\n",
      "                                                      230, 240, 250, 260, 270,\n",
      "                                                      280, 290, 300, ...],\n",
      "                                        'max_features': ['sqrt', 'log2', None],\n",
      "                                        'min_samples_split': [2, 3, 4, 5],\n",
      "                                        'splitter': ['best', 'random']}) \n",
      "\n",
      "Accuracy : 0.8776167471819646\n",
      "Precision: 0.8904494382022472\n",
      "Recall: 0.8954802259887006\n",
      "F1 Score : 0.8929577464788732\n"
     ]
    }
   ],
   "source": [
    "from sklearn.tree import DecisionTreeClassifier\n",
    "grid_param = {\n",
    "    \"criterion\":[\"gini\",\"entropy\"],\n",
    "    \"splitter\" :[\"best\",\"random\"],\n",
    "    \"max_depth\" : [x for x in range(10,1000,10)],\n",
    "    \"min_samples_split\" :[2,3,4,5],\n",
    "    \"max_features\" :[\"sqrt\",\"log2\",None]\n",
    "}\n",
    "DT = DecisionTreeClassifier()\n",
    "DT_grid = RandomizedSearchCV(DT,param_distributions = grid_param ,cv = 3,n_iter=2000,n_jobs=-1)\n",
    "model(DT_grid,X_train_red,y_train_red,X_test_red,y_test_red,\"decision tree classifier_\")"
   ]
  },
  {
   "cell_type": "code",
   "execution_count": 205,
   "metadata": {},
   "outputs": [
    {
     "name": "stdout",
     "output_type": "stream",
     "text": [
      "GridSearchCV(cv=3,\n",
      "             estimator=AdaBoostClassifier(base_estimator=DecisionTreeClassifier(criterion='entropy',\n",
      "                                                                                max_depth=330,\n",
      "                                                                                min_samples_split=4)),\n",
      "             n_jobs=-1,\n",
      "             param_grid={'algorithm': ['SAMME', 'SAMME.R'],\n",
      "                         'learning_rate': array([0.1, 0.2, 0.3, 0.4, 0.5, 0.6, 0.7, 0.8, 0.9]),\n",
      "                         'n_estimators': [20, 30, 40, 50, 60, 70, 80, 90, 100,\n",
      "                                          110, 120, 130, 140]}) \n",
      "\n",
      "Accuracy : 0.895330112721417\n",
      "Precision: 0.9002770083102493\n",
      "Recall: 0.9180790960451978\n",
      "F1 Score : 0.9090909090909091\n"
     ]
    }
   ],
   "source": [
    "from sklearn.ensemble import AdaBoostClassifier\n",
    "ABC = AdaBoostClassifier(DT_grid.best_estimator_)\n",
    "param_grid = {\n",
    "    \"n_estimators\" : [x for x in range(20,150,10)],\n",
    "    \"learning_rate\" : np.arange(0.1,1,0.1),\n",
    "    \"algorithm\": [\"SAMME\", \"SAMME.R\"]\n",
    "    \n",
    "}\n",
    "ABC_grid = GridSearchCV(ABC,param_grid=param_grid,cv = 3,n_jobs=-1)\n",
    "model(ABC_grid,X_train_red,y_train_red,X_test_red,y_test_red,\"AdaBoostClassifierred\")"
   ]
  },
  {
   "cell_type": "code",
   "execution_count": 206,
   "metadata": {},
   "outputs": [],
   "source": [
    "from sklearn.neural_network import MLPClassifier"
   ]
  },
  {
   "cell_type": "code",
   "execution_count": 208,
   "metadata": {},
   "outputs": [
    {
     "name": "stdout",
     "output_type": "stream",
     "text": [
      "MLPClassifier(max_iter=10000) \n",
      "\n",
      "Accuracy : 0.8357487922705314\n",
      "Precision: 0.8579545454545454\n",
      "Recall: 0.8531073446327684\n",
      "F1 Score : 0.8555240793201133\n"
     ]
    }
   ],
   "source": [
    "from sklearn.neural_network import MLPClassifier\n",
    "lf = MLPClassifier(max_iter=10000)\n",
    "model(lf,X_train_red,y_train_red,X_test_red,y_test_red,\"mlc\")"
   ]
  },
  {
   "cell_type": "code",
   "execution_count": 262,
   "metadata": {},
   "outputs": [],
   "source": [
    "from sklearn.ensemble import VotingClassifier\n",
    "estimators = [(\"e\",DT.best_estimator_),(\"f\",ABC.best_estimator_),(\"g\",GBC.best_estimator_),(\"h\",RFC_random.best_estimator_)]\n",
    "# estimators = [(\"b\",gridKN.best_estimator_),(\"c\",svcgrid.best_estimator_),(\"e\",DT.best_estimator_),(\"f\",ABC.best_estimator_),(\"g\",GBC.best_estimator_),(\"h\",RFC_random.best_estimator_)]"
   ]
  },
  {
   "cell_type": "code",
   "execution_count": 263,
   "metadata": {},
   "outputs": [],
   "source": [
    "VC = VotingClassifier(estimators=estimators)"
   ]
  },
  {
   "cell_type": "code",
   "execution_count": 264,
   "metadata": {},
   "outputs": [
    {
     "name": "stdout",
     "output_type": "stream",
     "text": [
      "VotingClassifier(estimators=[('e',\n",
      "                              DecisionTreeClassifier(criterion='entropy',\n",
      "                                                     max_depth=510,\n",
      "                                                     min_samples_split=4)),\n",
      "                             ('f',\n",
      "                              AdaBoostClassifier(algorithm='SAMME',\n",
      "                                                 base_estimator=DecisionTreeClassifier(criterion='entropy',\n",
      "                                                                                       max_depth=510,\n",
      "                                                                                       min_samples_split=4),\n",
      "                                                 learning_rate=0.4,\n",
      "                                                 n_estimators=120)),\n",
      "                             ('g',\n",
      "                              GradientBoostingClassifier(init=DecisionTreeClassifier(criterion='entropy',\n",
      "                                                                                     max_depth=510,\n",
      "                                                                                     min_samples_split=4,\n",
      "                                                                                     random_state=276962415),\n",
      "                                                         learning_rate=0.8,\n",
      "                                                         loss='exponential',\n",
      "                                                         max_depth=31,\n",
      "                                                         min_samples_leaf=2,\n",
      "                                                         min_samples_split=5,\n",
      "                                                         n_estimators=410)),\n",
      "                             ('h',\n",
      "                              RandomForestClassifier(criterion='entropy',\n",
      "                                                     max_depth=95,\n",
      "                                                     max_features='log2',\n",
      "                                                     min_samples_split=5,\n",
      "                                                     n_estimators=1820))]) \n",
      "\n",
      "Accuracy : 0.9082125603864735\n",
      "Precision: 0.9162162162162162\n",
      "Recall: 0.9287671232876712\n",
      "F1 Score : 0.9224489795918368\n"
     ]
    }
   ],
   "source": [
    "\n",
    "model(VC,X_train,y_train,X_test,y_test,\"VotingClassifier\")"
   ]
  },
  {
   "cell_type": "code",
   "execution_count": 252,
   "metadata": {},
   "outputs": [
    {
     "data": {
      "text/plain": [
       "VotingClassifier(estimators=[('b',\n",
       "                              KNeighborsClassifier(algorithm='ball_tree',\n",
       "                                                   leaf_size=10, n_neighbors=10,\n",
       "                                                   p=1, weights='distance')),\n",
       "                             ('c', SVC(C=30, degree=10, probability=True)),\n",
       "                             ('e',\n",
       "                              DecisionTreeClassifier(criterion='entropy',\n",
       "                                                     max_depth=510,\n",
       "                                                     min_samples_split=4)),\n",
       "                             ('f',\n",
       "                              AdaBoostClassifier(algorithm='SAMME',\n",
       "                                                 base_estimator=DecisionTreeClassifier(criterion='en...\n",
       "                              GradientBoostingClassifier(init=DecisionTreeClassifier(criterion='entropy',\n",
       "                                                                                     max_depth=510,\n",
       "                                                                                     min_samples_split=4,\n",
       "                                                                                     random_state=276962415),\n",
       "                                                         learning_rate=0.8,\n",
       "                                                         loss='exponential',\n",
       "                                                         max_depth=31,\n",
       "                                                         min_samples_leaf=2,\n",
       "                                                         min_samples_split=5,\n",
       "                                                         n_estimators=410)),\n",
       "                             ('h',\n",
       "                              RandomForestClassifier(criterion='entropy',\n",
       "                                                     max_depth=95,\n",
       "                                                     max_features='log2',\n",
       "                                                     min_samples_split=5,\n",
       "                                                     n_estimators=1820))])"
      ]
     },
     "execution_count": 252,
     "metadata": {},
     "output_type": "execute_result"
    }
   ],
   "source": [
    "VC.fit(X,y)"
   ]
  },
  {
   "cell_type": "code",
   "execution_count": 254,
   "metadata": {},
   "outputs": [],
   "source": [
    "prediction = VC.predict(test_data)"
   ]
  },
  {
   "cell_type": "code",
   "execution_count": 255,
   "metadata": {},
   "outputs": [],
   "source": [
    "prediction = pd.DataFrame(prediction)\n",
    "prediction.columns = [\"prediction\"] \n",
    "prediction.to_csv(\"vc.csv\",index = False)"
   ]
  },
  {
   "cell_type": "code",
   "execution_count": 258,
   "metadata": {},
   "outputs": [],
   "source": [
    "balancer= SMOTE()\n",
    "X_train_,y_train_ = balancer.fit_resample(X_train,y_train)"
   ]
  },
  {
   "cell_type": "code",
   "execution_count": 261,
   "metadata": {},
   "outputs": [
    {
     "name": "stdout",
     "output_type": "stream",
     "text": [
      "VotingClassifier(estimators=[('b',\n",
      "                              KNeighborsClassifier(algorithm='ball_tree',\n",
      "                                                   leaf_size=10, n_neighbors=10,\n",
      "                                                   p=1, weights='distance')),\n",
      "                             ('c', SVC(C=30, degree=10, probability=True)),\n",
      "                             ('e',\n",
      "                              DecisionTreeClassifier(criterion='entropy',\n",
      "                                                     max_depth=510,\n",
      "                                                     min_samples_split=4)),\n",
      "                             ('f',\n",
      "                              AdaBoostClassifier(algorithm='SAMME',\n",
      "                                                 base_estimator=DecisionTreeClassifier(criterion='en...\n",
      "                              GradientBoostingClassifier(init=DecisionTreeClassifier(criterion='entropy',\n",
      "                                                                                     max_depth=510,\n",
      "                                                                                     min_samples_split=4,\n",
      "                                                                                     random_state=276962415),\n",
      "                                                         learning_rate=0.8,\n",
      "                                                         loss='exponential',\n",
      "                                                         max_depth=31,\n",
      "                                                         min_samples_leaf=2,\n",
      "                                                         min_samples_split=5,\n",
      "                                                         n_estimators=410)),\n",
      "                             ('h',\n",
      "                              RandomForestClassifier(criterion='entropy',\n",
      "                                                     max_depth=95,\n",
      "                                                     max_features='log2',\n",
      "                                                     min_samples_split=5,\n",
      "                                                     n_estimators=1820))]) \n",
      "\n",
      "Accuracy : 0.8872785829307569\n",
      "Precision: 0.9226361031518625\n",
      "Recall: 0.8821917808219178\n",
      "F1 Score : 0.9019607843137256\n"
     ]
    }
   ],
   "source": [
    "VC = VotingClassifier(estimators=estimators)\n",
    "model(VC,X_train_,y_train_,X_test,y_test,\"VotingClassifier\")"
   ]
  },
  {
   "cell_type": "code",
   "execution_count": 265,
   "metadata": {},
   "outputs": [
    {
     "data": {
      "text/plain": [
       "0.9082125603864735"
      ]
     },
     "execution_count": 265,
     "metadata": {},
     "output_type": "execute_result"
    }
   ],
   "source": [
    "VC.score(X_test,y_test)"
   ]
  },
  {
   "cell_type": "code",
   "execution_count": 269,
   "metadata": {},
   "outputs": [],
   "source": [
    "from sklearn.metrics import confusion_matrix"
   ]
  },
  {
   "cell_type": "code",
   "execution_count": 271,
   "metadata": {},
   "outputs": [],
   "source": [
    "mat = confusion_matrix(y_test,VC.predict(X_test))"
   ]
  },
  {
   "cell_type": "code",
   "execution_count": 272,
   "metadata": {},
   "outputs": [
    {
     "data": {
      "text/plain": [
       "array([[225,  31],\n",
       "       [ 26, 339]], dtype=int64)"
      ]
     },
     "execution_count": 272,
     "metadata": {},
     "output_type": "execute_result"
    }
   ],
   "source": [
    "mat"
   ]
  },
  {
   "cell_type": "code",
   "execution_count": 273,
   "metadata": {},
   "outputs": [],
   "source": [
    "mat = confusion_matrix(y_test,ABC.predict(X_test))"
   ]
  },
  {
   "cell_type": "code",
   "execution_count": 276,
   "metadata": {},
   "outputs": [
    {
     "data": {
      "text/plain": [
       "0.9001610305958132"
      ]
     },
     "execution_count": 276,
     "metadata": {},
     "output_type": "execute_result"
    }
   ],
   "source": [
    "t = ABC.best_estimator_\n",
    "t.fit(X_train,y_train)\n",
    "t.score(X_test,y_test)"
   ]
  },
  {
   "cell_type": "code",
   "execution_count": 277,
   "metadata": {},
   "outputs": [
    {
     "data": {
      "text/plain": [
       "0.8985507246376812"
      ]
     },
     "execution_count": 277,
     "metadata": {},
     "output_type": "execute_result"
    }
   ],
   "source": [
    "t = ABC.best_estimator_\n",
    "t.fit(X_train_,y_train_)\n",
    "t.score(X_test,y_test)"
   ]
  },
  {
   "cell_type": "code",
   "execution_count": 278,
   "metadata": {},
   "outputs": [
    {
     "data": {
      "text/plain": [
       "0.9146537842190016"
      ]
     },
     "execution_count": 278,
     "metadata": {},
     "output_type": "execute_result"
    }
   ],
   "source": [
    "t = GBC.best_estimator_\n",
    "t.fit(X_train,y_train)\n",
    "t.score(X_test,y_test)"
   ]
  },
  {
   "cell_type": "code",
   "execution_count": null,
   "metadata": {},
   "outputs": [],
   "source": []
  }
 ],
 "metadata": {
  "kernelspec": {
   "display_name": "Python 3",
   "language": "python",
   "name": "python3"
  },
  "language_info": {
   "codemirror_mode": {
    "name": "ipython",
    "version": 3
   },
   "file_extension": ".py",
   "mimetype": "text/x-python",
   "name": "python",
   "nbconvert_exporter": "python",
   "pygments_lexer": "ipython3",
   "version": "3.8.5"
  }
 },
 "nbformat": 4,
 "nbformat_minor": 2
}
